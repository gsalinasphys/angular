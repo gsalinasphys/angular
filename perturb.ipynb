{
 "cells": [
  {
   "cell_type": "code",
   "execution_count": 12,
   "metadata": {},
   "outputs": [],
   "source": [
    "import json\n",
    "import sys\n",
    "from math import cos, pi, sin, sqrt\n",
    "from typing import Callable\n",
    "\n",
    "import matplotlib as mpl\n",
    "import numpy as np\n",
    "import seaborn as sns\n",
    "from matplotlib import pyplot as plt\n",
    "from scipy.interpolate import CubicSpline\n",
    "\n",
    "mpl.rcParams['text.usetex'] = True\n",
    "mpl.rcParams['figure.dpi'] = 96\n",
    "location = \"/home/gsalinas/GitHub/angular/PyTransport\"\n",
    "sys.path.append(location)\n",
    "\n",
    "import PyTransSetup\n",
    "\n",
    "PyTransSetup.pathSet()\n",
    "\n",
    "import PyTransAngular as PyT"
   ]
  },
  {
   "cell_type": "code",
   "execution_count": 13,
   "metadata": {},
   "outputs": [],
   "source": [
    "def get_background(initial: np.ndarray, params: dict, Nrange: tuple, tol: float = 1e-30) -> np.ndarray:\n",
    "    Ns = np.linspace(Nrange[0], Nrange[1], Nrange[2], endpoint=True)\n",
    "    pval = np.array(list(params.values()))\n",
    "    tols = np.array([tol, tol])\n",
    "    back = PyT.backEvolve(Ns, initial, pval, tols, True)\n",
    "    return back\n",
    "\n",
    "def get_background_func(back: np.ndarray) -> Callable:\n",
    "    Ns, phis, phidots = back[:, 0], back[:, 1:3], back[:, 3:]\n",
    "\n",
    "    return lambda N: CubicSpline(Ns, phis, extrapolate=True)(N), \\\n",
    "            lambda N: CubicSpline(Ns, phidots, extrapolate=True)(N)"
   ]
  },
  {
   "cell_type": "code",
   "execution_count": 14,
   "metadata": {},
   "outputs": [
    {
     "name": "stdout",
     "output_type": "stream",
     "text": [
      "458116\n"
     ]
    }
   ],
   "source": [
    "params = {'alpha': 1/600, 'R': 9, 'mphi': 2.e-5}\n",
    "    \n",
    "r0, theta0 = 0.99, pi/4\n",
    "phi0 = r0 * np.array([cos(theta0), sin(theta0)])\n",
    "phidot0 = np.zeros(2)\n",
    "initial = np.concatenate((phi0, phidot0))\n",
    "\n",
    "Nrange = (0, 100, 500_000)\n",
    "back = get_background(initial, params, Nrange)\n",
    "phi, phidot = get_background_func(back)"
   ]
  },
  {
   "cell_type": "code",
   "execution_count": 15,
   "metadata": {},
   "outputs": [
    {
     "name": "stdout",
     "output_type": "stream",
     "text": [
      "Number of e-folds: 91.6\n"
     ]
    }
   ],
   "source": [
    "Nini, Nend = back[0, 0], back[-1, 0]\n",
    "print(f'Number of e-folds: {Nend:.3}')\n",
    "Nexit = Nend - 55"
   ]
  },
  {
   "cell_type": "code",
   "execution_count": 23,
   "metadata": {},
   "outputs": [
    {
     "data": {
      "text/plain": [
       "array([ 9.12322519e-01,  4.03842017e-01,  1.11085341e-09, -2.48561995e-09])"
      ]
     },
     "execution_count": 23,
     "metadata": {},
     "output_type": "execute_result"
    }
   ],
   "source": [
    "initial2 = np.concatenate((phi(Nexit), phidot(Nexit)))\n",
    "initial2"
   ]
  },
  {
   "cell_type": "code",
   "execution_count": 47,
   "metadata": {},
   "outputs": [
    {
     "name": "stdout",
     "output_type": "stream",
     "text": [
      "275059\n"
     ]
    }
   ],
   "source": [
    "back2 = get_background(initial2 + np.array([1e-5, 0., 0., 0.]), params, Nrange)\n",
    "phi2, phidot2 = get_background_func(back2)\n",
    "Nend2 = back2[-1, 0]"
   ]
  },
  {
   "cell_type": "code",
   "execution_count": 50,
   "metadata": {},
   "outputs": [
    {
     "data": {
      "text/plain": [
       "(0.912, 0.913, 0.4, 0.405)"
      ]
     },
     "execution_count": 50,
     "metadata": {},
     "output_type": "execute_result"
    },
    {
     "data": {
      "image/png": "[encoded data removed]",
      "text/plain": [
       "<Figure size 614.4x460.8 with 1 Axes>"
      ]
     },
     "metadata": {},
     "output_type": "display_data"
    }
   ],
   "source": [
    "num_points = 10_000\n",
    "Nplot = np.linspace(Nexit, Nend, num_points)\n",
    "Nplot2 = np.linspace(0, Nend2, num_points)\n",
    "plt.scatter(phi(Nplot).T[0], phi(Nplot).T[1])\n",
    "plt.scatter(phi2(Nplot2).T[0], phi2(Nplot2).T[1])\n",
    "plt.axis([0.912, 0.913, 0.4, 0.405])"
   ]
  },
  {
   "cell_type": "code",
   "execution_count": null,
   "metadata": {},
   "outputs": [],
   "source": []
  }
 ],
 "metadata": {
  "kernelspec": {
   "display_name": "angular",
   "language": "python",
   "name": "python3"
  },
  "language_info": {
   "codemirror_mode": {
    "name": "ipython",
    "version": 3
   },
   "file_extension": ".py",
   "mimetype": "text/x-python",
   "name": "python",
   "nbconvert_exporter": "python",
   "pygments_lexer": "ipython3",
   "version": "3.8.10"
  },
  "orig_nbformat": 4,
  "vscode": {
   "interpreter": {
    "hash": "0c46a1ba44ce5379620040ded11105de22693134ad8f07eafb53cee93fe718e6"
   }
  }
 },
 "nbformat": 4,
 "nbformat_minor": 2
}
